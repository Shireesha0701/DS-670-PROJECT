{
 "cells": [
  {
   "cell_type": "code",
   "execution_count": null,
   "id": "354128d6",
   "metadata": {},
   "outputs": [
    {
     "name": "stdout",
     "output_type": "stream",
     "text": [
      "🔄 Attempting to load CSV file...\n",
      "✅ CSV file loaded successfully!\n",
      "✅ Required nutrition columns found and processed!\n",
      "🚀 Starting Flask server...\n",
      " * Serving Flask app '__main__'\n",
      " * Debug mode: off\n"
     ]
    },
    {
     "name": "stderr",
     "output_type": "stream",
     "text": [
      "WARNING: This is a development server. Do not use it in a production deployment. Use a production WSGI server instead.\n",
      " * Running on http://127.0.0.1:5001\n",
      "Press CTRL+C to quit\n",
      "127.0.0.1 - - [08/Feb/2025 01:13:50] \"GET / HTTP/1.1\" 200 -\n",
      "127.0.0.1 - - [08/Feb/2025 01:13:58] \"POST / HTTP/1.1\" 200 -\n"
     ]
    }
   ],
   "source": [
    "from flask import Flask, render_template, request\n",
    "import pandas as pd\n",
    "import os\n",
    "import traceback\n",
    "\n",
    "app = Flask(__name__)\n",
    "\n",
    "# Define CSV file path\n",
    "csv_path = r\"D:\\Project food Genie\\MERGED_FOOD_DATA_WITH_GRAMS.csv\"\n",
    "\n",
    "# Check if the CSV file exists\n",
    "if not os.path.exists(csv_path):\n",
    "    print(f\"❌ ERROR: CSV file not found at {csv_path}\")\n",
    "else:\n",
    "    try:\n",
    "        print(\"🔄 Attempting to load CSV file...\")\n",
    "        df = pd.read_csv(csv_path, encoding=\"utf-8\")\n",
    "        print(\"✅ CSV file loaded successfully!\")\n",
    "\n",
    "        # Ensure necessary columns exist\n",
    "        required_columns = [\"food\", \"Caloric Value\", \"Protein\", \"Carbohydrates\", \"Fat\"]\n",
    "\n",
    "        if all(col in df.columns for col in required_columns):\n",
    "            df[\"food\"] = df[\"food\"].fillna(\"\")\n",
    "            df[\"Caloric Value\"] = pd.to_numeric(df[\"Caloric Value\"], errors=\"coerce\")\n",
    "            df[\"Protein\"] = pd.to_numeric(df[\"Protein\"], errors=\"coerce\")\n",
    "            df[\"Carbohydrates\"] = pd.to_numeric(df[\"Carbohydrates\"], errors=\"coerce\")\n",
    "            df[\"Fat\"] = pd.to_numeric(df[\"Fat\"], errors=\"coerce\")\n",
    "            print(\"✅ Required nutrition columns found and processed!\")\n",
    "        else:\n",
    "            print(f\"❌ ERROR: Required columns missing in CSV! Available columns: {df.columns}\")\n",
    "            df = None  # Prevents app from running with an invalid DataFrame\n",
    "\n",
    "    except Exception as e:\n",
    "        print(\"❌ ERROR: Could not load CSV file.\")\n",
    "        traceback.print_exc()\n",
    "        df = None  # Prevents app from running with an invalid DataFrame\n",
    "\n",
    "\n",
    "@app.route(\"/\", methods=[\"GET\", \"POST\"])\n",
    "def index():\n",
    "    if df is None:\n",
    "        return \"❌ ERROR: Data not loaded. Please check the server logs.\", 500\n",
    "\n",
    "    results = None\n",
    "    message = None\n",
    "\n",
    "    if request.method == \"POST\":\n",
    "        query = request.form.get(\"query\", \"\").strip().lower()\n",
    "\n",
    "        if not query:\n",
    "            message = \"Please enter a search term.\"\n",
    "        else:\n",
    "            try:\n",
    "                # Filter results that contain the search term\n",
    "                results = df[df[\"food\"].str.lower().str.contains(query, na=False)]\n",
    "\n",
    "                # Sort results by 'Caloric Value' in ascending order\n",
    "                results = results.sort_values(by=\"Caloric Value\", ascending=True)\n",
    "\n",
    "                if results.empty:\n",
    "                    message = \"No matching food items found.\"\n",
    "            except Exception as e:\n",
    "                print(\"❌ ERROR during search:\", e)\n",
    "                traceback.print_exc()\n",
    "                message = \"An error occurred while searching. Please try again.\"\n",
    "\n",
    "    return render_template(\"index.html\", results=results, message=message)\n",
    "\n",
    "\n",
    "if __name__ == \"__main__\":\n",
    "    print(\"🚀 Starting Flask server...\")\n",
    "    app.run(debug=False, port=5001)\n"
   ]
  },
  {
   "cell_type": "code",
   "execution_count": null,
   "id": "39982446",
   "metadata": {},
   "outputs": [],
   "source": []
  },
  {
   "cell_type": "code",
   "execution_count": null,
   "id": "498b4981",
   "metadata": {},
   "outputs": [],
   "source": []
  },
  {
   "cell_type": "code",
   "execution_count": null,
   "id": "f30d1a7b",
   "metadata": {},
   "outputs": [],
   "source": []
  }
 ],
 "metadata": {
  "kernelspec": {
   "display_name": "Python 3 (ipykernel)",
   "language": "python",
   "name": "python3"
  },
  "language_info": {
   "codemirror_mode": {
    "name": "ipython",
    "version": 3
   },
   "file_extension": ".py",
   "mimetype": "text/x-python",
   "name": "python",
   "nbconvert_exporter": "python",
   "pygments_lexer": "ipython3",
   "version": "3.10.11"
  }
 },
 "nbformat": 4,
 "nbformat_minor": 5
}
